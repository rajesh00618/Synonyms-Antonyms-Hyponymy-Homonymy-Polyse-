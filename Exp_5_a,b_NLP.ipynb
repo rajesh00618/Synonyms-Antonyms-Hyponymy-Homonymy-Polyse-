{
  "nbformat": 4,
  "nbformat_minor": 0,
  "metadata": {
    "colab": {
      "provenance": []
    },
    "kernelspec": {
      "name": "python3",
      "display_name": "Python 3"
    },
    "language_info": {
      "name": "python"
    }
  },
  "cells": [
    {
      "cell_type": "code",
      "execution_count": null,
      "metadata": {
        "id": "kThDjKIosL0j"
      },
      "outputs": [],
      "source": [
        "#To identify all antonyms and synonyms of a word"
      ]
    },
    {
      "cell_type": "code",
      "source": [
        "import nltk\n",
        "from nltk.corpus import wordnet\n",
        "nltk.download('wordnet')\n",
        "nltk.download('omw-1.4')"
      ],
      "metadata": {
        "colab": {
          "base_uri": "https://localhost:8080/"
        },
        "id": "2qRunSAtsca_",
        "outputId": "9e1e7048-d037-4599-cc30-ba5a6986f08f"
      },
      "execution_count": null,
      "outputs": [
        {
          "output_type": "stream",
          "name": "stderr",
          "text": [
            "[nltk_data] Downloading package wordnet to /root/nltk_data...\n",
            "[nltk_data] Downloading package omw-1.4 to /root/nltk_data...\n"
          ]
        },
        {
          "output_type": "execute_result",
          "data": {
            "text/plain": [
              "True"
            ]
          },
          "metadata": {},
          "execution_count": 2
        }
      ]
    },
    {
      "cell_type": "code",
      "source": [
        "def get_synonyms_and_antonyms(word):\n",
        "    synonyms = set()\n",
        "    antonyms = set()\n",
        "    for syn in wordnet.synsets(word):\n",
        "        for lemma in syn.lemmas():\n",
        "            synonyms.add(lemma.name())\n",
        "            if lemma.antonyms():\n",
        "                for antonym in lemma.antonyms():\n",
        "                    antonyms.add(antonym.name())\n",
        "    return synonyms, antonyms\n",
        "word=input(\"Enter word: \")\n",
        "synonyms, antonyms = get_synonyms_and_antonyms(word)\n",
        "print(f\"Synonyms of {word}: {synonyms}\")\n",
        "print(\", \".join(sorted(synonyms)) if synonyms else \"None found\")\n",
        "print(f\"Antonyms of {word}: {antonyms}\")\n",
        "print(\", \".join(sorted(antonyms)) if antonyms else \"None found\")"
      ],
      "metadata": {
        "colab": {
          "base_uri": "https://localhost:8080/"
        },
        "id": "wFaxsf1asuly",
        "outputId": "d3a2906d-6230-4837-e8b1-1a45f61fcc8b"
      },
      "execution_count": null,
      "outputs": [
        {
          "output_type": "stream",
          "name": "stdout",
          "text": [
            "Enter word: paradise\n",
            "Synonyms of paradise: {'Paradise', 'heaven', 'Shangri-la', 'Eden', 'promised_land', 'nirvana', 'paradise'}\n",
            "Eden, Paradise, Shangri-la, heaven, nirvana, paradise, promised_land\n",
            "Antonyms of paradise: set()\n",
            "None found\n"
          ]
        }
      ]
    },
    {
      "cell_type": "code",
      "source": [
        "#to find hyponomy,homonomy,polyse"
      ],
      "metadata": {
        "id": "gDgnrE156mxN"
      },
      "execution_count": null,
      "outputs": []
    },
    {
      "cell_type": "code",
      "source": [
        "import nltk\n",
        "from nltk.corpus import wordnet\n",
        "nltk.download('wordnet')\n",
        "nltk.download('omw-1.4')\n",
        "def get_hyponyms(word):\n",
        "    hyponyms = set()\n",
        "    for syn in wordnet.synsets(word):\n",
        "        for lemma in syn.lemmas():\n",
        "            for hyponym in lemma.derivationally_related_forms():\n",
        "                hyponyms.add(hyponym.name())\n",
        "    return hyponyms\n",
        "def get_hypernyms(word):\n",
        "    hypernyms = set()\n",
        "    for syn in wordnet.synsets(word):\n",
        "        for lemma in syn.lemmas():\n",
        "            for hypernym in lemma.derivationally_related_forms():\n",
        "                hypernyms.add(hypernym.name())\n",
        "    return hypernyms\n",
        "def get_polysemy(word):\n",
        "    polysemy = {}\n",
        "    for syn in wordnet.synsets(word):\n",
        "        for lemma in syn.lemmas():\n",
        "            if lemma.name() in polysemy:\n",
        "                polysemy[lemma.name()].append(syn.name())\n",
        "            else:\n",
        "                polysemy[lemma.name()] = [syn.name()]\n",
        "    return polysemy\n",
        "\n",
        "word=input(\"Enter word: \")\n",
        "\n",
        "hyponyms = get_hyponyms(word)\n",
        "hypernyms = get_hypernyms(word)\n",
        "polysemy = get_polysemy(word)\n",
        "\n",
        "print(f\"Hyponyms of {word}: {hyponyms}\")\n",
        "print(f\"Hypernyms of {word}: {hypernyms}\")\n",
        "print(f\"Polysemy of {word}: {polysemy}\")"
      ],
      "metadata": {
        "colab": {
          "base_uri": "https://localhost:8080/"
        },
        "id": "JR4nBbOP6xym",
        "outputId": "308da808-ae24-4345-e8ae-51ca849a59cb"
      },
      "execution_count": null,
      "outputs": [
        {
          "output_type": "stream",
          "name": "stderr",
          "text": [
            "[nltk_data] Downloading package wordnet to /root/nltk_data...\n",
            "[nltk_data]   Package wordnet is already up-to-date!\n",
            "[nltk_data] Downloading package omw-1.4 to /root/nltk_data...\n",
            "[nltk_data]   Package omw-1.4 is already up-to-date!\n"
          ]
        },
        {
          "output_type": "stream",
          "name": "stdout",
          "text": [
            "Enter word: good\n",
            "Hyponyms of good: {'good', 'respectability', 'dependableness', 'safeness', 'benefit', 'justness', 'security', 'soundness', 'goodness', 'uprightness', 'expertness', 'honor', 'skillfulness', 'honorableness', 'proficiency', 'adept', 'adeptness'}\n",
            "Hypernyms of good: {'good', 'respectability', 'dependableness', 'safeness', 'benefit', 'justness', 'security', 'soundness', 'goodness', 'uprightness', 'expertness', 'honor', 'skillfulness', 'honorableness', 'proficiency', 'adept', 'adeptness'}\n",
            "Polysemy of good: {'good': ['good.n.01', 'good.n.02', 'good.n.03', 'commodity.n.01', 'good.a.01', 'full.s.06', 'good.a.03', 'estimable.s.02', 'beneficial.s.01', 'good.s.06', 'good.s.07', 'adept.s.01', 'good.s.09', 'dear.s.02', 'dependable.s.04', 'good.s.12', 'good.s.13', 'effective.s.04', 'good.s.15', 'good.s.16', 'good.s.17', 'good.s.18', 'good.s.19', 'good.s.20', 'good.s.21', 'well.r.01', 'thoroughly.r.02'], 'goodness': ['good.n.02', 'good.n.03'], 'commodity': ['commodity.n.01'], 'trade_good': ['commodity.n.01'], 'full': ['full.s.06'], 'estimable': ['estimable.s.02'], 'honorable': ['estimable.s.02'], 'respectable': ['estimable.s.02'], 'beneficial': ['beneficial.s.01'], 'just': ['good.s.07'], 'upright': ['good.s.07'], 'adept': ['adept.s.01'], 'expert': ['adept.s.01'], 'practiced': ['adept.s.01'], 'proficient': ['adept.s.01'], 'skillful': ['adept.s.01'], 'skilful': ['adept.s.01'], 'dear': ['dear.s.02'], 'near': ['dear.s.02'], 'dependable': ['dependable.s.04'], 'safe': ['dependable.s.04'], 'secure': ['dependable.s.04'], 'right': ['good.s.12'], 'ripe': ['good.s.12'], 'well': ['good.s.13', 'well.r.01'], 'effective': ['effective.s.04'], 'in_effect': ['effective.s.04'], 'in_force': ['effective.s.04'], 'serious': ['good.s.16'], 'sound': ['good.s.17'], 'salutary': ['good.s.18'], 'honest': ['good.s.19'], 'undecomposed': ['good.s.20'], 'unspoiled': ['good.s.20'], 'unspoilt': ['good.s.20'], 'thoroughly': ['thoroughly.r.02'], 'soundly': ['thoroughly.r.02']}\n"
          ]
        }
      ]
    }
  ]
}